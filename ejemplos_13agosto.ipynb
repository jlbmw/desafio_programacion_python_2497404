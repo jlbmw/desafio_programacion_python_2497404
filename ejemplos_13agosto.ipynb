{
  "nbformat": 4,
  "nbformat_minor": 0,
  "metadata": {
    "colab": {
      "provenance": [],
      "authorship_tag": "ABX9TyOoaEQRxpRVvT7xiogeXFjs",
      "include_colab_link": true
    },
    "kernelspec": {
      "name": "python3",
      "display_name": "Python 3"
    },
    "language_info": {
      "name": "python"
    }
  },
  "cells": [
    {
      "cell_type": "markdown",
      "metadata": {
        "id": "view-in-github",
        "colab_type": "text"
      },
      "source": [
        "<a href=\"https://colab.research.google.com/github/jlbmw/desafio_programacion_python_2497404/blob/main/ejemplos_13agosto.ipynb\" target=\"_parent\"><img src=\"https://colab.research.google.com/assets/colab-badge.svg\" alt=\"Open In Colab\"/></a>"
      ]
    },
    {
      "cell_type": "code",
      "execution_count": 1,
      "metadata": {
        "colab": {
          "base_uri": "https://localhost:8080/"
        },
        "id": "p2ahYuVPyuRr",
        "outputId": "fa16b104-6d69-4ee9-863a-5927e9905cda"
      },
      "outputs": [
        {
          "output_type": "stream",
          "name": "stdout",
          "text": [
            "Hola Python\n",
            "Hola Python\n"
          ]
        }
      ],
      "source": [
        "# Nuestro hola mundo en Python\n",
        "print(\"Hola Python\")\n",
        "print('Hola Python')"
      ]
    },
    {
      "cell_type": "code",
      "source": [
        "# Cómo consultar el tipo de dato\n",
        "print(type(\"Soy un dato str\"))  # Tipo 'str'\n",
        "print(type(5))  # Tipo 'int'\n",
        "print(type(1.5))  # Tipo 'float'\n",
        "print(type(3 + 1j))  # Tipo 'complex'\n",
        "print(type(True))  # Tipo 'bool'\n",
        "print(type(print(\"Mi cadena de texto\")))  # Tipo 'NoneType'"
      ],
      "metadata": {
        "colab": {
          "base_uri": "https://localhost:8080/"
        },
        "id": "qGEJWOPE0lQ3",
        "outputId": "ea6ad5cc-3ed1-46a9-8dd5-b6be04a357c1"
      },
      "execution_count": 2,
      "outputs": [
        {
          "output_type": "stream",
          "name": "stdout",
          "text": [
            "<class 'str'>\n",
            "<class 'int'>\n",
            "<class 'float'>\n",
            "<class 'complex'>\n",
            "<class 'bool'>\n",
            "Mi cadena de texto\n",
            "<class 'NoneType'>\n"
          ]
        }
      ]
    },
    {
      "cell_type": "code",
      "source": [
        "### Variables ###\n",
        "\n",
        "my_string_variable = \"My String variable\"\n",
        "print(my_string_variable)"
      ],
      "metadata": {
        "colab": {
          "base_uri": "https://localhost:8080/"
        },
        "id": "UeSEg3Dj4IPD",
        "outputId": "e3aa8d31-9333-4046-ab13-cb5b9aceada6"
      },
      "execution_count": 3,
      "outputs": [
        {
          "output_type": "stream",
          "name": "stdout",
          "text": [
            "My String variable\n"
          ]
        }
      ]
    },
    {
      "cell_type": "code",
      "source": [
        "my_int_variable = 5\n",
        "print(my_int_variable)\n",
        "\n",
        "my_int_to_str_variable = str(my_int_variable)\n",
        "print(my_int_to_str_variable)\n",
        "print(type(my_int_to_str_variable))\n",
        "\n",
        "my_bool_variable = False\n",
        "print(my_bool_variable)"
      ],
      "metadata": {
        "colab": {
          "base_uri": "https://localhost:8080/"
        },
        "id": "hAiGEGty4ljr",
        "outputId": "8c5b8708-ff35-4ddf-92ed-926deb682c83"
      },
      "execution_count": 4,
      "outputs": [
        {
          "output_type": "stream",
          "name": "stdout",
          "text": [
            "5\n",
            "5\n",
            "<class 'str'>\n",
            "False\n"
          ]
        }
      ]
    },
    {
      "cell_type": "code",
      "source": [
        "# Simple output (with Unicode)\n",
        "print(\"Hello, I'm Python!\")\n",
        "\n",
        "# Input, assignment\n",
        "name = input('What is your name?\\n')\n",
        "\n",
        "print(f'Hi, {name}.')\n"
      ],
      "metadata": {
        "colab": {
          "base_uri": "https://localhost:8080/"
        },
        "id": "T9mY-FBg8sVq",
        "outputId": "2f5ff7d7-3761-4ee4-959f-deab8d203507"
      },
      "execution_count": 6,
      "outputs": [
        {
          "output_type": "stream",
          "name": "stdout",
          "text": [
            "Hello, I'm Python!\n",
            "What is your name?\n",
            "jose\n",
            "Hi, jose.\n"
          ]
        }
      ]
    },
    {
      "cell_type": "code",
      "source": [
        "numbers = [2, 4, 6, 8]\n",
        "product = 1\n",
        "for number in numbers:\n",
        "    product = product * number\n",
        "print('The product is:', product)"
      ],
      "metadata": {
        "colab": {
          "base_uri": "https://localhost:8080/"
        },
        "id": "9P1_Lpns977V",
        "outputId": "38ccd31b-132e-454a-9366-b0cd8af98fc2"
      },
      "execution_count": 8,
      "outputs": [
        {
          "output_type": "stream",
          "name": "stdout",
          "text": [
            "The product is: 384\n"
          ]
        }
      ]
    }
  ]
}